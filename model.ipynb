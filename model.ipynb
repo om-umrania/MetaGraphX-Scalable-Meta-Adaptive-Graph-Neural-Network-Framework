{
 "cells": [
  {
   "cell_type": "code",
   "execution_count": 131,
   "metadata": {},
   "outputs": [],
   "source": [
    "import os\n",
    "import torch\n",
    "import torch.nn as nn\n",
    "import torch.optim as optim\n",
    "from torch_geometric.data import Data\n",
    "from torch_geometric.utils import negative_sampling\n",
    "from torch_geometric.nn import GCNConv, GATConv\n",
    "import pandas as pd\n",
    "from sklearn.preprocessing import StandardScaler, LabelEncoder\n",
    "from tqdm import tqdm\n",
    "import numpy as np\n",
    "import time\n",
    "\n",
    "import matplotlib.pyplot as plt\n",
    "\n",
    "os.environ['PYTORCH_MPS_ENABLE_FALLBACK']='1'\n",
    "\n",
    "# Set random seed for reproducibility\n",
    "torch.manual_seed(42)\n",
    "np.random.seed(42)\n"
   ]
  },
  {
   "cell_type": "code",
   "execution_count": 132,
   "metadata": {},
   "outputs": [],
   "source": [
    "\n",
    "# Function to plot training and validation loss over epochs\n",
    "def plot_loss(train_losses, val_losses, save_path='loss_plot.png'):\n",
    "    \"\"\"\n",
    "    Plots the training and validation loss over epochs.\n",
    "\n",
    "    Args:\n",
    "        train_losses (list): List of training losses.\n",
    "        val_losses (list): List of validation losses.\n",
    "        save_path (str): Path to save the plot image.\n",
    "    \"\"\"\n",
    "    plt.figure(figsize=(10, 6))\n",
    "    epochs = range(1, len(train_losses) + 1)\n",
    "    plt.plot(epochs, train_losses, label='Training Loss')\n",
    "    plt.plot(epochs, val_losses, label='Validation Loss')\n",
    "    plt.xlabel('Epochs')\n",
    "    plt.ylabel('Loss')\n",
    "    plt.title('Training and Validation Loss Over Time')\n",
    "    plt.legend()\n",
    "    plt.grid(True)\n",
    "    plt.savefig(save_path)\n",
    "    plt.show()\n",
    "    print(f\"Loss plot saved to {save_path}\")\n"
   ]
  },
  {
   "cell_type": "code",
   "execution_count": 133,
   "metadata": {},
   "outputs": [],
   "source": [
    "\n",
    "def preprocess_data(filepath, sample_size=10000, k=10, random_state=42):\n",
    "    \"\"\"\n",
    "    Load the dataset, sample a subset, encode categorical features,\n",
    "    normalize continuous features, and create an optimized edge list.\n",
    "\n",
    "    Args:\n",
    "        filepath (str): Path to the CSV dataset.\n",
    "        sample_size (int): Number of samples to select.\n",
    "        k (int): Number of neighbors to connect for each node.\n",
    "        random_state (int): Seed for reproducibility.\n",
    "\n",
    "    Returns:\n",
    "        Data: PyTorch Geometric Data object with sampled data.\n",
    "        dict: Encoders used for categorical features.\n",
    "    \"\"\"\n",
    "    print(\"Loading dataset...\")\n",
    "    # Load dataset\n",
    "    df = pd.read_csv(filepath)\n",
    "    print(f\"Original dataset size: {df.shape}\")\n",
    "\n",
    "    # Sample the dataset\n",
    "    print(\"Sampling data...\")\n",
    "    if sample_size < len(df):\n",
    "        df_sampled = df.sample(n=sample_size, random_state=random_state).reset_index(drop=True)\n",
    "    else:\n",
    "        df_sampled = df.reset_index(drop=True)\n",
    "    print(f\"Sampled dataset size: {df_sampled.shape}\")\n",
    "\n",
    "    # Encode categorical features\n",
    "    print(\"Encoding categorical features...\")\n",
    "    encoders = {}\n",
    "    categorical_cols = ['disease_family', 'disease', 'smoking_status', 'cough_type']\n",
    "    for col in categorical_cols:\n",
    "        if col in df_sampled.columns:\n",
    "            encoder = LabelEncoder()\n",
    "            df_sampled[col] = encoder.fit_transform(df_sampled[col])\n",
    "            encoders[col] = encoder\n",
    "            print(f\"Encoded column: {col}\")\n",
    "        else:\n",
    "            raise ValueError(f\"Column '{col}' not found in the dataset.\")\n",
    "\n",
    "    # Normalize continuous features\n",
    "    print(\"Normalizing continuous features...\")\n",
    "    scaler = StandardScaler()\n",
    "    continuous_cols = ['systolic_bp', 'diastolic_bp', 'cholesterol', 'BMI', 'heart_rate', 'blood_glucose']\n",
    "    for col in continuous_cols:\n",
    "        if col in df_sampled.columns:\n",
    "            df_sampled[col] = scaler.fit_transform(df_sampled[[col]])\n",
    "            print(f\"Normalized column: {col}\")\n",
    "        else:\n",
    "            raise ValueError(f\"Column '{col}' not found in the dataset.\")\n",
    "\n",
    "    # Prepare node features (X)\n",
    "    print(\"Preparing node features...\")\n",
    "    if 'patient_id' in df_sampled.columns:\n",
    "        feature_cols = [col for col in df_sampled.columns if col != 'patient_id']\n",
    "        x = torch.tensor(df_sampled[feature_cols].values, dtype=torch.float)\n",
    "    else:\n",
    "        x = torch.tensor(df_sampled.values, dtype=torch.float)\n",
    "    print(f\"Node features shape: {x.shape}\")\n",
    "\n",
    "    # Create optimized edge list\n",
    "    print(\"Creating edge list...\")\n",
    "    edge_index = create_edge_list_vectorized(df_sampled, k=k)\n",
    "    print(f\"Edge list created with shape: {edge_index.shape}\")\n",
    "\n",
    "    return Data(x=x, edge_index=edge_index), encoders\n"
   ]
  },
  {
   "cell_type": "code",
   "execution_count": 134,
   "metadata": {},
   "outputs": [],
   "source": [
    "\n",
    "def create_edge_list_vectorized(df, k=10):\n",
    "    \"\"\"\n",
    "    Optimized edge list creation using vectorized operations.\n",
    "    Connect each node to k randomly selected neighbors within the same 'disease_family'.\n",
    "\n",
    "    Args:\n",
    "        df (pd.DataFrame): Sampled DataFrame.\n",
    "        k (int): Number of neighbors to connect for each node.\n",
    "\n",
    "    Returns:\n",
    "        torch.Tensor: Edge index tensor of shape [2, num_edges].\n",
    "    \"\"\"\n",
    "    print(\"Grouping data by 'disease_family'...\")\n",
    "    edges = []\n",
    "\n",
    "    groups = df.groupby('disease_family').groups\n",
    "    print(f\"Number of disease families: {len(groups)}\")\n",
    "\n",
    "    for group_name, group in tqdm(groups.items(), total=len(groups), desc=\"Processing groups\"):\n",
    "        group_indices = group.values  # Assuming group is a pandas Index or similar\n",
    "        num_nodes = len(group_indices)\n",
    "\n",
    "        if num_nodes <= 1:\n",
    "            print(f\"Group '{group_name}' has only {num_nodes} node(s). Skipping.\")\n",
    "            continue  # No edges can be formed\n",
    "\n",
    "        # Determine the actual number of neighbors\n",
    "        actual_k = min(k, num_nodes - 1)\n",
    "\n",
    "        # Shuffle the indices for randomness\n",
    "        shuffled_indices = np.random.permutation(group_indices)\n",
    "\n",
    "        # Assign the first 'actual_k' indices as neighbors\n",
    "        neighbors = np.tile(shuffled_indices[:actual_k], (num_nodes, 1))\n",
    "\n",
    "        # Create source and target edges\n",
    "        source_nodes = np.repeat(group_indices, actual_k)\n",
    "        target_nodes = neighbors.flatten()\n",
    "\n",
    "        # Append to the edge list\n",
    "        edges.extend(zip(source_nodes, target_nodes))\n",
    "\n",
    "    # Convert to NumPy array for efficient processing\n",
    "    edges = np.array(edges)\n",
    "\n",
    "    print(\"Removing duplicate edges and self-loops...\")\n",
    "    # Remove self-loops\n",
    "    mask = edges[:, 0] != edges[:, 1]\n",
    "    edges = edges[mask]\n",
    "\n",
    "    # Remove duplicate edges\n",
    "    edges = np.unique(edges, axis=0)\n",
    "    print(f\"Total edges after sampling: {len(edges)}\")\n",
    "\n",
    "    if len(edges) == 0:\n",
    "        raise ValueError(\"No edges were created. Please check the edge creation logic.\")\n",
    "\n",
    "    # Convert to PyTorch tensor\n",
    "    edge_index = torch.tensor(edges, dtype=torch.long).t()\n",
    "\n",
    "    return edge_index\n"
   ]
  },
  {
   "cell_type": "code",
   "execution_count": 135,
   "metadata": {},
   "outputs": [],
   "source": [
    "class PatientGNN(nn.Module):\n",
    "    def __init__(self, in_channels, hidden_channels, out_channels, heads):\n",
    "        super(PatientGNN, self).__init__()\n",
    "        self.gcn1 = GCNConv(in_channels, hidden_channels)\n",
    "        self.attention = GATConv(hidden_channels, hidden_channels, heads=heads, concat=False)\n",
    "        self.gcn2 = GCNConv(hidden_channels, out_channels)\n",
    "\n",
    "    def forward(self, x, edge_index):\n",
    "        x = self.gcn1(x, edge_index)\n",
    "        x = torch.relu(x)\n",
    "        x = self.attention(x, edge_index)\n",
    "        x = torch.relu(x)\n",
    "        x = self.gcn2(x, edge_index)\n",
    "        return x\n"
   ]
  },
  {
   "cell_type": "code",
   "execution_count": 136,
   "metadata": {},
   "outputs": [],
   "source": [
    "def train(model, optimizer, criterion, data, device, batch_size=64):\n",
    "    model.train()\n",
    "    optimizer.zero_grad()\n",
    "    \n",
    "    num_nodes = data.num_nodes\n",
    "    indices = torch.randperm(num_nodes)\n",
    "    mini_batches = indices.split(batch_size)\n",
    "    \n",
    "    total_loss = 0\n",
    "    bce_loss = torch.nn.BCEWithLogitsLoss()  # Use BCE with logits for numerical stability\n",
    "    \n",
    "    for batch in mini_batches:\n",
    "        x_batch = data.x[batch].to(device)\n",
    "        global_to_local = {global_idx.item(): local_idx for local_idx, global_idx in enumerate(batch)}\n",
    "        \n",
    "        # Filter and remap edges (same as before)\n",
    "        mask_pos = torch.isin(data.train_pos_edge_index[0], batch) & torch.isin(data.train_pos_edge_index[1], batch)\n",
    "        pos_edge_index_batch = data.train_pos_edge_index[:, mask_pos].to(device)\n",
    "        pos_edge_index_batch = torch.tensor(\n",
    "            [[global_to_local[node.item()] for node in pos_edge_index_batch_row]\n",
    "             for pos_edge_index_batch_row in pos_edge_index_batch],\n",
    "            dtype=torch.long,\n",
    "            device=device,\n",
    "        )\n",
    "        \n",
    "        mask_neg = torch.isin(data.train_neg_edge_index[0], batch) & torch.isin(data.train_neg_edge_index[1], batch)\n",
    "        neg_edge_index_batch = data.train_neg_edge_index[:, mask_neg].to(device)\n",
    "        neg_edge_index_batch = torch.tensor(\n",
    "            [[global_to_local[node.item()] for node in neg_edge_index_batch_row]\n",
    "             for neg_edge_index_batch_row in neg_edge_index_batch],\n",
    "            dtype=torch.long,\n",
    "            device=device,\n",
    "        )\n",
    "        \n",
    "        out = model(x_batch, pos_edge_index_batch)\n",
    "        \n",
    "        # Compute positive and negative scores\n",
    "        pos_src, pos_dst = pos_edge_index_batch\n",
    "        neg_src, neg_dst = neg_edge_index_batch\n",
    "        \n",
    "        pos_out_src = out[pos_src]\n",
    "        pos_out_dst = out[pos_dst]\n",
    "        neg_out_src = out[neg_src]\n",
    "        neg_out_dst = out[neg_dst]\n",
    "        \n",
    "        pos_scores = (pos_out_src * pos_out_dst).sum(dim=-1)  # Raw logits for BCE\n",
    "        neg_scores = (neg_out_src * neg_out_dst).sum(dim=-1)  # Raw logits for BCE\n",
    "        \n",
    "        # Combine positive and negative samples for BCE\n",
    "        scores = torch.cat([pos_scores, neg_scores], dim=0)\n",
    "        labels = torch.cat([torch.ones_like(pos_scores), torch.zeros_like(neg_scores)], dim=0)\n",
    "        \n",
    "        # Compute BCE Loss\n",
    "        loss = bce_loss(scores, labels)\n",
    "        total_loss += loss.item()\n",
    "        \n",
    "        loss.backward()\n",
    "        torch.nn.utils.clip_grad_norm_(model.parameters(), max_norm=1.0)  # Gradient clipping\n",
    "        optimizer.step()\n",
    "        optimizer.zero_grad()\n",
    "    \n",
    "    return total_loss / len(mini_batches)\n"
   ]
  },
  {
   "cell_type": "code",
   "execution_count": 137,
   "metadata": {},
   "outputs": [],
   "source": [
    "\n",
    "# Evaluation Function\n",
    "def evaluate(model, criterion, data, split='val'):\n",
    "    model.eval()\n",
    "    with torch.no_grad():\n",
    "        out = model(data.x, data.train_pos_edge_index)\n",
    "\n",
    "        if split == 'val':\n",
    "            pos_edge = data.val_pos_edge_index\n",
    "            neg_edge = data.val_neg_edge_index\n",
    "        elif split == 'test':\n",
    "            pos_edge = data.test_pos_edge_index\n",
    "            neg_edge = data.test_neg_edge_index\n",
    "        else:\n",
    "            raise ValueError(\"Split must be 'val' or 'test'\")\n",
    "\n",
    "        pos_src = pos_edge[0]\n",
    "        pos_dst = pos_edge[1]\n",
    "        neg_src = neg_edge[0]\n",
    "        neg_dst = neg_edge[1]\n",
    "\n",
    "        pos_out_src = out[pos_src]\n",
    "        pos_out_dst = out[pos_dst]\n",
    "        neg_out_src = out[neg_src]\n",
    "        neg_out_dst = out[neg_dst]\n",
    "\n",
    "        # Compute similarity scores\n",
    "        pos_scores = (pos_out_src * pos_out_dst).sum(dim=-1)\n",
    "        neg_scores = (neg_out_src * neg_out_dst).sum(dim=-1)\n",
    "\n",
    "        # Compute loss\n",
    "        pos_loss = -torch.log(torch.sigmoid(pos_scores) + 1e-15).mean()\n",
    "        neg_loss = -torch.log(1 - torch.sigmoid(neg_scores) + 1e-15).mean()\n",
    "        loss = pos_loss + neg_loss\n",
    "\n",
    "    return loss.item()\n"
   ]
  },
  {
   "cell_type": "code",
   "execution_count": 138,
   "metadata": {},
   "outputs": [],
   "source": [
    "\n",
    "# Recommendation Function\n",
    "def recommend_similar_patients(model, data, patient_id, top_k=5):\n",
    "    model.eval()\n",
    "    with torch.no_grad():\n",
    "        embeddings = model(data.x, data.train_pos_edge_index)\n",
    "        embeddings = embeddings.cpu()  # Ensure embeddings are on CPU\n",
    "        patient_embedding = embeddings[patient_id].unsqueeze(0)\n",
    "        similarities = torch.cosine_similarity(patient_embedding, embeddings)\n",
    "        recommended_patients = similarities.argsort(descending=True)[1:top_k+1]\n",
    "        return recommended_patients\n"
   ]
  },
  {
   "cell_type": "code",
   "execution_count": 139,
   "metadata": {},
   "outputs": [],
   "source": [
    "\n",
    "# Function to split edges into train, val, test\n",
    "def split_edges(data, val_ratio=0.05, test_ratio=0.05, random_state=42):\n",
    "    \"\"\"\n",
    "    Split the edges in data.edge_index into train, validation, and test sets.\n",
    "\n",
    "    Args:\n",
    "        data (Data): PyTorch Geometric Data object.\n",
    "        val_ratio (float): Proportion of edges to use for validation.\n",
    "        test_ratio (float): Proportion of edges to use for testing.\n",
    "        random_state (int): Seed for reproducibility.\n",
    "\n",
    "    Returns:\n",
    "        Data: Data object with train, val, and test edge indices.\n",
    "    \"\"\"\n",
    "    print(\"Splitting edges into train, validation, and test sets...\")\n",
    "    num_edges = data.edge_index.size(1)\n",
    "    num_val = int(num_edges * val_ratio)\n",
    "    num_test = int(num_edges * test_ratio)\n",
    "    num_train = num_edges - num_val - num_test\n",
    "\n",
    "    # Shuffle edge indices with reproducibility\n",
    "    generator = torch.Generator().manual_seed(random_state)\n",
    "    indices = torch.randperm(num_edges, generator=generator)\n",
    "    train_indices = indices[:num_train]\n",
    "    val_indices = indices[num_train:num_train + num_val]\n",
    "    test_indices = indices[num_train + num_val:]\n",
    "\n",
    "    data.train_pos_edge_index = data.edge_index[:, train_indices]\n",
    "    data.val_pos_edge_index = data.edge_index[:, val_indices]\n",
    "    data.test_pos_edge_index = data.edge_index[:, test_indices]\n",
    "\n",
    "    # Generate negative samples for train, val, and test\n",
    "    print(\"Generating negative samples for training...\")\n",
    "    data.train_neg_edge_index = negative_sampling(\n",
    "        edge_index=data.train_pos_edge_index,\n",
    "        num_nodes=data.num_nodes,\n",
    "        num_neg_samples=data.train_pos_edge_index.size(1),\n",
    "        method='sparse'\n",
    "    )\n",
    "\n",
    "    print(\"Generating negative samples for validation...\")\n",
    "    data.val_neg_edge_index = negative_sampling(\n",
    "        edge_index=data.val_pos_edge_index,\n",
    "        num_nodes=data.num_nodes,\n",
    "        num_neg_samples=data.val_pos_edge_index.size(1),\n",
    "        method='sparse'\n",
    "    )\n",
    "\n",
    "    print(\"Generating negative samples for testing...\")\n",
    "    data.test_neg_edge_index = negative_sampling(\n",
    "        edge_index=data.test_pos_edge_index,\n",
    "        num_nodes=data.num_nodes,\n",
    "        num_neg_samples=data.test_pos_edge_index.size(1),\n",
    "        method='sparse'\n",
    "    )\n",
    "\n",
    "    return data\n"
   ]
  },
  {
   "cell_type": "code",
   "execution_count": 140,
   "metadata": {},
   "outputs": [
    {
     "name": "stdout",
     "output_type": "stream",
     "text": [
      "Using device: cpu\n"
     ]
    }
   ],
   "source": [
    "\n",
    "# Main Execution\n",
    "\n",
    "# Filepath to dataset\n",
    "filepath = 'datasets/SynDisNet.csv'  # Update this path as needed\n",
    "\n",
    "# Set device to CUDA if available, else MPS or CPU\n",
    "if torch.cuda.is_available():\n",
    "    device = torch.device(\"cuda\")\n",
    "elif torch.backends.mps.is_available():\n",
    "    # device = torch.device(\"mps\") - currently not supported\n",
    "    device = torch.device(\"cpu\")\n",
    "else:\n",
    "    device = torch.device(\"cpu\")\n",
    "print(f\"Using device: {device}\")\n"
   ]
  },
  {
   "cell_type": "code",
   "execution_count": 141,
   "metadata": {},
   "outputs": [
    {
     "name": "stdout",
     "output_type": "stream",
     "text": [
      "Loading dataset...\n",
      "Original dataset size: (1000000, 13)\n",
      "Sampling data...\n",
      "Sampled dataset size: (64000, 13)\n",
      "Encoding categorical features...\n",
      "Encoded column: disease_family\n",
      "Encoded column: disease\n",
      "Encoded column: smoking_status\n",
      "Encoded column: cough_type\n",
      "Normalizing continuous features...\n",
      "Normalized column: systolic_bp\n",
      "Normalized column: diastolic_bp\n",
      "Normalized column: cholesterol\n",
      "Normalized column: BMI\n",
      "Normalized column: heart_rate\n",
      "Normalized column: blood_glucose\n",
      "Preparing node features...\n",
      "Node features shape: torch.Size([64000, 12])\n",
      "Creating edge list...\n",
      "Grouping data by 'disease_family'...\n",
      "Number of disease families: 10\n"
     ]
    },
    {
     "name": "stderr",
     "output_type": "stream",
     "text": [
      "Processing groups: 100%|██████████| 10/10 [00:00<00:00, 103.58it/s]\n"
     ]
    },
    {
     "name": "stdout",
     "output_type": "stream",
     "text": [
      "Removing duplicate edges and self-loops...\n",
      "Total edges after sampling: 639900\n",
      "Edge list created with shape: torch.Size([2, 639900])\n",
      "Splitting edges into train, validation, and test sets...\n",
      "Generating negative samples for training...\n",
      "Generating negative samples for validation...\n",
      "Generating negative samples for testing...\n",
      "Edge splits:\n",
      "Train edges: 511920\n",
      "Validation edges: 63990\n",
      "Test edges: 63990\n",
      "Moving data to device...\n"
     ]
    }
   ],
   "source": [
    "# Preprocess data and create Data object with sampling\n",
    "sample_size = 64000  # Number of samples to select\n",
    "k = 10  # Number of neighbors per node\n",
    "data, encoders = preprocess_data(filepath, sample_size=sample_size, k=k)\n",
    "\n",
    "# Split edges into train, val, and test\n",
    "data = split_edges(data, val_ratio=0.1, test_ratio=0.1, random_state=42)\n",
    "print(\"Edge splits:\")\n",
    "print(f\"Train edges: {data.train_pos_edge_index.size(1)}\")\n",
    "print(f\"Validation edges: {data.val_pos_edge_index.size(1)}\")\n",
    "print(f\"Test edges: {data.test_pos_edge_index.size(1)}\")\n",
    "\n",
    "# Move data to device\n",
    "print(\"Moving data to device...\")\n",
    "data = data.to(device)\n"
   ]
  },
  {
   "cell_type": "code",
   "execution_count": 142,
   "metadata": {},
   "outputs": [
    {
     "name": "stdout",
     "output_type": "stream",
     "text": [
      "Initializing model...\n"
     ]
    }
   ],
   "source": [
    "\n",
    "\n",
    "# Initialize model and move to device\n",
    "in_channels = data.x.size(1)\n",
    "hidden_channels = 64\n",
    "out_channels = 32\n",
    "heads = 4\n",
    "print(\"Initializing model...\")\n",
    "model = PatientGNN(in_channels=in_channels, hidden_channels=hidden_channels, out_channels=out_channels, heads=heads)\n",
    "model = model.to(device)"
   ]
  },
  {
   "cell_type": "code",
   "execution_count": 143,
   "metadata": {},
   "outputs": [],
   "source": [
    "\n",
    "\n",
    "# Optimizer and Loss Function\n",
    "optimizer = optim.Adam(model.parameters(), lr=0.001)\n",
    "criterion = nn.MSELoss()  # Alternatively, use a different loss based on your task\n",
    "\n",
    "# Training loop with progress bar\n",
    "epochs = 100\n",
    "best_val_loss = float('inf')\n",
    "patience = 20000\n",
    "counter = 0\n"
   ]
  },
  {
   "cell_type": "code",
   "execution_count": 144,
   "metadata": {},
   "outputs": [],
   "source": [
    "\n",
    "# Lists to store loss values for plotting\n",
    "train_losses = []\n",
    "val_losses = []\n"
   ]
  },
  {
   "cell_type": "code",
   "execution_count": 145,
   "metadata": {},
   "outputs": [
    {
     "name": "stdout",
     "output_type": "stream",
     "text": [
      "Starting training...\n"
     ]
    },
    {
     "name": "stderr",
     "output_type": "stream",
     "text": [
      "Training Progress:   1%|          | 1/100 [00:04<07:43,  4.68s/epoch]"
     ]
    },
    {
     "name": "stdout",
     "output_type": "stream",
     "text": [
      "raw loss: 0.7616280261427164\n",
      "Epoch 0, Train Loss: 0.7616, Val Loss: 0.7825\n"
     ]
    },
    {
     "name": "stderr",
     "output_type": "stream",
     "text": [
      "Training Progress:  11%|█         | 11/100 [00:47<06:37,  4.46s/epoch]"
     ]
    },
    {
     "name": "stdout",
     "output_type": "stream",
     "text": [
      "raw loss: 0.39531600708141923\n",
      "Epoch 10, Train Loss: 0.3953, Val Loss: 0.7564\n"
     ]
    },
    {
     "name": "stderr",
     "output_type": "stream",
     "text": [
      "Training Progress:  21%|██        | 21/100 [01:35<06:19,  4.80s/epoch]"
     ]
    },
    {
     "name": "stdout",
     "output_type": "stream",
     "text": [
      "raw loss: 0.3847620775923133\n",
      "Epoch 20, Train Loss: 0.3848, Val Loss: 0.7482\n"
     ]
    },
    {
     "name": "stderr",
     "output_type": "stream",
     "text": [
      "Training Progress:  31%|███       | 31/100 [02:27<06:00,  5.23s/epoch]"
     ]
    },
    {
     "name": "stdout",
     "output_type": "stream",
     "text": [
      "raw loss: 0.3859943295828998\n",
      "Epoch 30, Train Loss: 0.3860, Val Loss: 0.7664\n"
     ]
    },
    {
     "name": "stderr",
     "output_type": "stream",
     "text": [
      "Training Progress:  41%|████      | 41/100 [03:19<05:11,  5.28s/epoch]"
     ]
    },
    {
     "name": "stdout",
     "output_type": "stream",
     "text": [
      "raw loss: 0.4092153627425432\n",
      "Epoch 40, Train Loss: 0.4092, Val Loss: 0.7390\n"
     ]
    },
    {
     "name": "stderr",
     "output_type": "stream",
     "text": [
      "Training Progress:  51%|█████     | 51/100 [04:13<04:18,  5.28s/epoch]"
     ]
    },
    {
     "name": "stdout",
     "output_type": "stream",
     "text": [
      "raw loss: 0.39755585230886936\n",
      "Epoch 50, Train Loss: 0.3976, Val Loss: 0.7382\n"
     ]
    },
    {
     "name": "stderr",
     "output_type": "stream",
     "text": [
      "Training Progress:  61%|██████    | 61/100 [05:08<03:38,  5.62s/epoch]"
     ]
    },
    {
     "name": "stdout",
     "output_type": "stream",
     "text": [
      "raw loss: 0.3936435501091182\n",
      "Epoch 60, Train Loss: 0.3936, Val Loss: 0.7412\n"
     ]
    },
    {
     "name": "stderr",
     "output_type": "stream",
     "text": [
      "Training Progress:  71%|███████   | 71/100 [06:05<02:44,  5.68s/epoch]"
     ]
    },
    {
     "name": "stdout",
     "output_type": "stream",
     "text": [
      "raw loss: 0.39850413240492344\n",
      "Epoch 70, Train Loss: 0.3985, Val Loss: 0.7407\n"
     ]
    },
    {
     "name": "stderr",
     "output_type": "stream",
     "text": [
      "Training Progress:  81%|████████  | 81/100 [07:04<01:52,  5.93s/epoch]"
     ]
    },
    {
     "name": "stdout",
     "output_type": "stream",
     "text": [
      "raw loss: 0.382466365583241\n",
      "Epoch 80, Train Loss: 0.3825, Val Loss: 0.7339\n"
     ]
    },
    {
     "name": "stderr",
     "output_type": "stream",
     "text": [
      "Training Progress:  91%|█████████ | 91/100 [07:57<00:47,  5.32s/epoch]"
     ]
    },
    {
     "name": "stdout",
     "output_type": "stream",
     "text": [
      "raw loss: 0.38726139487698674\n",
      "Epoch 90, Train Loss: 0.3873, Val Loss: 0.7298\n"
     ]
    },
    {
     "name": "stderr",
     "output_type": "stream",
     "text": [
      "Training Progress: 100%|██████████| 100/100 [08:45<00:00,  5.26s/epoch]\n"
     ]
    }
   ],
   "source": [
    "print(\"Starting training...\")\n",
    "for epoch in tqdm(range(epochs), desc=\"Training Progress\", unit=\"epoch\"):\n",
    "    loss = train(model, optimizer, criterion, data, device=device, batch_size=2048)\n",
    "\n",
    "    train_losses.append(loss)\n",
    "\n",
    "    # Evaluate on validation set\n",
    "    val_loss = evaluate(model, criterion, data, split='val')\n",
    "    val_losses.append(val_loss)\n",
    "\n",
    "    if val_loss < best_val_loss:\n",
    "        best_val_loss = val_loss\n",
    "        counter = 0\n",
    "        # Save the best model\n",
    "        torch.save(model.state_dict(), 'best_model.pth')\n",
    "    else:\n",
    "        counter += 1\n",
    "\n",
    "    if epoch % 10 == 0:\n",
    "        print(f\"raw loss: {loss}\")\n",
    "        print(f\"Epoch {epoch}, Train Loss: {loss:.4f}, Val Loss: {val_loss:.4f}\")\n",
    "\n",
    "    # Early stopping\n",
    "    if counter >= patience:\n",
    "        print(\"Early stopping triggered.\")\n",
    "        break\n"
   ]
  },
  {
   "cell_type": "code",
   "execution_count": 146,
   "metadata": {},
   "outputs": [
    {
     "name": "stderr",
     "output_type": "stream",
     "text": [
      "/var/folders/70/9wgnzfm56tx44byb0jjm6llr0000gn/T/ipykernel_44027/2654965690.py:3: FutureWarning: You are using `torch.load` with `weights_only=False` (the current default value), which uses the default pickle module implicitly. It is possible to construct malicious pickle data which will execute arbitrary code during unpickling (See https://github.com/pytorch/pytorch/blob/main/SECURITY.md#untrusted-models for more details). In a future release, the default value for `weights_only` will be flipped to `True`. This limits the functions that could be executed during unpickling. Arbitrary objects will no longer be allowed to be loaded via this mode unless they are explicitly allowlisted by the user via `torch.serialization.add_safe_globals`. We recommend you start setting `weights_only=True` for any use case where you don't have full control of the loaded file. Please open an issue on GitHub for any issues related to this experimental feature.\n",
      "  model.load_state_dict(torch.load('best_model.pth'))\n"
     ]
    },
    {
     "name": "stdout",
     "output_type": "stream",
     "text": [
      "Loading the best model...\n",
      "Test Loss: 0.7294\n"
     ]
    }
   ],
   "source": [
    "\n",
    "# Load the best model\n",
    "print(\"Loading the best model...\")\n",
    "model.load_state_dict(torch.load('best_model.pth'))\n",
    "\n",
    "# Evaluate on test set\n",
    "test_loss = evaluate(model, criterion, data, split='test')\n",
    "print(f\"Test Loss: {test_loss:.4f}\")\n",
    "\n",
    "\n"
   ]
  },
  {
   "cell_type": "code",
   "execution_count": 147,
   "metadata": {},
   "outputs": [
    {
     "name": "stdout",
     "output_type": "stream",
     "text": [
      "Recommended patients for patient 0: [3744, 27644, 15724, 24473, 10297]\n"
     ]
    }
   ],
   "source": [
    "\n",
    "# Recommendations\n",
    "patient_id = 0  # Example patient ID (ensure it's within the sampled data range)\n",
    "if patient_id >= data.num_nodes:\n",
    "    raise ValueError(f\"patient_id {patient_id} is out of range for the dataset with {data.num_nodes} nodes.\")\n",
    "\n",
    "recommended_patients = recommend_similar_patients(model, data, patient_id, top_k=5)\n",
    "print(f\"Recommended patients for patient {patient_id}: {recommended_patients.tolist()}\")"
   ]
  },
  {
   "cell_type": "code",
   "execution_count": 148,
   "metadata": {},
   "outputs": [
    {
     "data": {
      "image/png": "[encoded data removed]",
      "text/plain": [
       "<Figure size 1000x600 with 1 Axes>"
      ]
     },
     "metadata": {},
     "output_type": "display_data"
    },
    {
     "name": "stdout",
     "output_type": "stream",
     "text": [
      "Loss plot saved to loss_plot.png\n"
     ]
    }
   ],
   "source": [
    "plot_loss(train_losses, val_losses, save_path='loss_plot.png')\n"
   ]
  },
  {
   "cell_type": "code",
   "execution_count": null,
   "metadata": {},
   "outputs": [],
   "source": []
  }
 ],
 "metadata": {
  "kernelspec": {
   "display_name": ".venv",
   "language": "python",
   "name": "python3"
  },
  "language_info": {
   "codemirror_mode": {
    "name": "ipython",
    "version": 3
   },
   "file_extension": ".py",
   "mimetype": "text/x-python",
   "name": "python",
   "nbconvert_exporter": "python",
   "pygments_lexer": "ipython3",
   "version": "3.10.14"
  }
 },
 "nbformat": 4,
 "nbformat_minor": 2
}
